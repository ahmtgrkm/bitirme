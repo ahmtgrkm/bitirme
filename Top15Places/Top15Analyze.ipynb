{
 "cells": [
  {
   "cell_type": "code",
   "execution_count": 223,
   "id": "0607b8af-2010-471f-98cb-c5120194f1c4",
   "metadata": {},
   "outputs": [],
   "source": [
    "import pandas as pd\n",
    "import re"
   ]
  },
  {
   "cell_type": "code",
   "execution_count": 224,
   "id": "11ccecab-2d9d-459b-8521-88345ba2f763",
   "metadata": {},
   "outputs": [],
   "source": [
    "# CSV dosyasının yolu\n",
    "path = \"Local Guide Reviews.csv\"\n",
    "\n",
    "# CSV dosyasını oku ve DataFrame'e yükle\n",
    "df = pd.read_csv(path)"
   ]
  },
  {
   "cell_type": "code",
   "execution_count": 225,
   "id": "5560b3e9-4c32-4dc8-91eb-9c7d8cdfc8ae",
   "metadata": {},
   "outputs": [],
   "source": [
    "df = df[df['PlaceName'] != 'Antalya Otogarı']\n",
    "df = df[df['Tag1'] != 'Dinlenme Tesisi']"
   ]
  },
  {
   "cell_type": "code",
   "execution_count": 226,
   "id": "525cbdac-454f-44b0-9bf8-20331c5f6667",
   "metadata": {},
   "outputs": [],
   "source": [
    "# NaN değerlere sahip satırları düşür\n",
    "df = df.dropna(subset=['PlaceAddress'])\n",
    "df = df.dropna(subset=['Rating'])"
   ]
  },
  {
   "cell_type": "code",
   "execution_count": 227,
   "id": "d717b951-2efa-4f9c-9375-44500df32361",
   "metadata": {},
   "outputs": [],
   "source": [
    "df = df.loc[df['PlaceAddress'].str.contains('antalya', case=False), :].dropna()"
   ]
  },
  {
   "cell_type": "code",
   "execution_count": 228,
   "id": "08f1c695-3b29-49c4-a857-1433d6e93505",
   "metadata": {},
   "outputs": [],
   "source": [
    "df['UserID'] = pd.factorize(df['ReviewerName'])[0]\n",
    "df['PlaceID'] = pd.factorize(df['PlaceAddress'])[0]"
   ]
  },
  {
   "cell_type": "code",
   "execution_count": 229,
   "id": "1c4731ef-9e94-4bd3-be3a-7e15179c2233",
   "metadata": {},
   "outputs": [],
   "source": [
    "# Tag1 sütunundaki aynı olan verileri grupla\n",
    "df['Tag1'] = df['Tag1'].astype(str).apply(lambda x: ' '.join(sorted(set(re.findall(r'\\w+', x)),key=x.index)))"
   ]
  },
  {
   "cell_type": "code",
   "execution_count": 230,
   "id": "3378b515-2a5a-42d4-a942-2b6b58277f6c",
   "metadata": {},
   "outputs": [],
   "source": [
    "# \"yıldız\" ifadesini kaldırma ve sadece sayısal değeri alma\n",
    "df['Rating'] = df['Rating'].str.replace(' yıldız', '')\n",
    "\n",
    "# Boş değerleri NaN olarak işaretleme\n",
    "df['Rating'] = pd.to_numeric(df['Rating'], errors='coerce')\n",
    "\n",
    "# Rating sütununu integere dönüştürme\n",
    "df['Rating'] = df['Rating'].astype(int)"
   ]
  },
  {
   "cell_type": "code",
   "execution_count": 231,
   "id": "e0b06a60-6f6e-4a62-a8ce-3fd03dfd2c89",
   "metadata": {},
   "outputs": [],
   "source": [
    "# Gruplama işlemi ve her bir grup için inceleme sayısı ve ortalama değer hesaplama\n",
    "review_counts = df.groupby(['PlaceID', 'PlaceName', 'Tag1']).agg({'Rating': ['size', 'mean']})\n",
    "\n",
    "# Sütun adlarını yeniden adlandırma\n",
    "review_counts.columns = ['Review_Count', 'Average_Rating']\n",
    "\n",
    "# İnceleme sayısına göre azalan şekilde sıralama\n",
    "review_counts_sorted = review_counts.sort_values(by='Review_Count', ascending=False)\n"
   ]
  },
  {
   "cell_type": "code",
   "execution_count": 232,
   "id": "3526fb71-1b20-4dbd-ba7c-d9aa4408daf3",
   "metadata": {},
   "outputs": [
    {
     "data": {
      "text/html": [
       "<div>\n",
       "<style scoped>\n",
       "    .dataframe tbody tr th:only-of-type {\n",
       "        vertical-align: middle;\n",
       "    }\n",
       "\n",
       "    .dataframe tbody tr th {\n",
       "        vertical-align: top;\n",
       "    }\n",
       "\n",
       "    .dataframe thead th {\n",
       "        text-align: right;\n",
       "    }\n",
       "</style>\n",
       "<table border=\"1\" class=\"dataframe\">\n",
       "  <thead>\n",
       "    <tr style=\"text-align: right;\">\n",
       "      <th></th>\n",
       "      <th></th>\n",
       "      <th></th>\n",
       "      <th>Review_Count</th>\n",
       "      <th>Average_Rating</th>\n",
       "    </tr>\n",
       "    <tr>\n",
       "      <th>PlaceID</th>\n",
       "      <th>PlaceName</th>\n",
       "      <th>Tag1</th>\n",
       "      <th></th>\n",
       "      <th></th>\n",
       "    </tr>\n",
       "  </thead>\n",
       "  <tbody>\n",
       "    <tr>\n",
       "      <th>31</th>\n",
       "      <th>Holly Stone Performance Hall Antalya</th>\n",
       "      <th>Etkinlik mekânı</th>\n",
       "      <td>7</td>\n",
       "      <td>3.000000</td>\n",
       "    </tr>\n",
       "    <tr>\n",
       "      <th>231</th>\n",
       "      <th>LUNA GARDEN</th>\n",
       "      <th>Restoran</th>\n",
       "      <td>6</td>\n",
       "      <td>4.666667</td>\n",
       "    </tr>\n",
       "    <tr>\n",
       "      <th>47</th>\n",
       "      <th>Çanakçı Döner</th>\n",
       "      <th>Dönerci</th>\n",
       "      <td>5</td>\n",
       "      <td>3.800000</td>\n",
       "    </tr>\n",
       "    <tr>\n",
       "      <th>20</th>\n",
       "      <th>Köfteci Cihat</th>\n",
       "      <th>Restoran</th>\n",
       "      <td>5</td>\n",
       "      <td>4.600000</td>\n",
       "    </tr>\n",
       "    <tr>\n",
       "      <th>377</th>\n",
       "      <th>The Beaver Coffee Shop Beach Park</th>\n",
       "      <th>Kafe</th>\n",
       "      <td>4</td>\n",
       "      <td>4.750000</td>\n",
       "    </tr>\n",
       "    <tr>\n",
       "      <th>78</th>\n",
       "      <th>TerraCity</th>\n",
       "      <th>Alışveriş merkezi</th>\n",
       "      <td>4</td>\n",
       "      <td>4.500000</td>\n",
       "    </tr>\n",
       "    <tr>\n",
       "      <th>215</th>\n",
       "      <th>ÖzdilekPark Antalya AVM</th>\n",
       "      <th>Alışveriş merkezi</th>\n",
       "      <td>4</td>\n",
       "      <td>4.500000</td>\n",
       "    </tr>\n",
       "    <tr>\n",
       "      <th>68</th>\n",
       "      <th>Sponge Pub Kaleiçi</th>\n",
       "      <th>Canlı Müzik</th>\n",
       "      <td>3</td>\n",
       "      <td>4.333333</td>\n",
       "    </tr>\n",
       "    <tr>\n",
       "      <th>435</th>\n",
       "      <th>Milklaç Işıklar</th>\n",
       "      <th>Tatlı</th>\n",
       "      <td>3</td>\n",
       "      <td>4.666667</td>\n",
       "    </tr>\n",
       "    <tr>\n",
       "      <th>331</th>\n",
       "      <th>Samanyolu Pastanesi</th>\n",
       "      <th>Pastane</th>\n",
       "      <td>3</td>\n",
       "      <td>5.000000</td>\n",
       "    </tr>\n",
       "    <tr>\n",
       "      <th>50</th>\n",
       "      <th>Boston Drink &amp; Dessert</th>\n",
       "      <th>Tatlı</th>\n",
       "      <td>3</td>\n",
       "      <td>4.666667</td>\n",
       "    </tr>\n",
       "    <tr>\n",
       "      <th>248</th>\n",
       "      <th>MarkAntalya AVM</th>\n",
       "      <th>Alışveriş merkezi</th>\n",
       "      <td>3</td>\n",
       "      <td>4.666667</td>\n",
       "    </tr>\n",
       "    <tr>\n",
       "      <th>341</th>\n",
       "      <th>Paçacı Şemsi</th>\n",
       "      <th>Türk</th>\n",
       "      <td>3</td>\n",
       "      <td>3.666667</td>\n",
       "    </tr>\n",
       "    <tr>\n",
       "      <th>226</th>\n",
       "      <th>Understone Coffee</th>\n",
       "      <th>Kafe</th>\n",
       "      <td>3</td>\n",
       "      <td>4.666667</td>\n",
       "    </tr>\n",
       "    <tr>\n",
       "      <th>94</th>\n",
       "      <th>Mall of Antalya</th>\n",
       "      <th>Alışveriş merkezi</th>\n",
       "      <td>3</td>\n",
       "      <td>4.333333</td>\n",
       "    </tr>\n",
       "  </tbody>\n",
       "</table>\n",
       "</div>"
      ],
      "text/plain": [
       "                                                                Review_Count  \\\n",
       "PlaceID PlaceName                            Tag1                              \n",
       "31      Holly Stone Performance Hall Antalya Etkinlik mekânı               7   \n",
       "231     LUNA GARDEN                          Restoran                      6   \n",
       "47      Çanakçı Döner                        Dönerci                       5   \n",
       "20      Köfteci Cihat                        Restoran                      5   \n",
       "377     The Beaver Coffee Shop Beach Park    Kafe                          4   \n",
       "78      TerraCity                            Alışveriş merkezi             4   \n",
       "215     ÖzdilekPark Antalya AVM              Alışveriş merkezi             4   \n",
       "68      Sponge Pub Kaleiçi                   Canlı Müzik                   3   \n",
       "435     Milklaç Işıklar                      Tatlı                         3   \n",
       "331     Samanyolu Pastanesi                  Pastane                       3   \n",
       "50      Boston Drink & Dessert               Tatlı                         3   \n",
       "248     MarkAntalya AVM                      Alışveriş merkezi             3   \n",
       "341     Paçacı Şemsi                         Türk                          3   \n",
       "226     Understone Coffee                    Kafe                          3   \n",
       "94      Mall of Antalya                      Alışveriş merkezi             3   \n",
       "\n",
       "                                                                Average_Rating  \n",
       "PlaceID PlaceName                            Tag1                               \n",
       "31      Holly Stone Performance Hall Antalya Etkinlik mekânı          3.000000  \n",
       "231     LUNA GARDEN                          Restoran                 4.666667  \n",
       "47      Çanakçı Döner                        Dönerci                  3.800000  \n",
       "20      Köfteci Cihat                        Restoran                 4.600000  \n",
       "377     The Beaver Coffee Shop Beach Park    Kafe                     4.750000  \n",
       "78      TerraCity                            Alışveriş merkezi        4.500000  \n",
       "215     ÖzdilekPark Antalya AVM              Alışveriş merkezi        4.500000  \n",
       "68      Sponge Pub Kaleiçi                   Canlı Müzik              4.333333  \n",
       "435     Milklaç Işıklar                      Tatlı                    4.666667  \n",
       "331     Samanyolu Pastanesi                  Pastane                  5.000000  \n",
       "50      Boston Drink & Dessert               Tatlı                    4.666667  \n",
       "248     MarkAntalya AVM                      Alışveriş merkezi        4.666667  \n",
       "341     Paçacı Şemsi                         Türk                     3.666667  \n",
       "226     Understone Coffee                    Kafe                     4.666667  \n",
       "94      Mall of Antalya                      Alışveriş merkezi        4.333333  "
      ]
     },
     "execution_count": 232,
     "metadata": {},
     "output_type": "execute_result"
    }
   ],
   "source": [
    "review_counts_sorted.head(15)\n",
    "# Elimizdeki verilere bakarak en çok ortak kesişim yakalanan mekanları Top15 listemize almaya karar verdik.\n",
    "# Bu listeyi belirlerken Taglerde çeşitlilik olmasına ve Ortalama Ratingin düşük olmamasına dikkat ettik."
   ]
  },
  {
   "cell_type": "code",
   "execution_count": 56,
   "id": "e5f74eb5-e4ab-43a3-ac38-7870903508be",
   "metadata": {},
   "outputs": [
    {
     "name": "stdout",
     "output_type": "stream",
     "text": [
      "Tag1\n",
      "Restoran                  196\n",
      "Alışveriş merkezi          66\n",
      "Otel                       61\n",
      "Kahve dükkanı              58\n",
      "Kafe                       54\n",
      "                         ... \n",
      "Geçiş Gişesi                1\n",
      "Gece kulübü₺                1\n",
      "Futbol Sahası               1\n",
      "Perde Mağazası              1\n",
      "Manikür/Pedikür Salonu      1\n",
      "Length: 350, dtype: int64\n"
     ]
    }
   ],
   "source": [
    "# Veri çerçevenizi oluşturun (örneğin, df)\n",
    "# Veri çerçevesini gruplayın ve her bir grubun sayısını alın\n",
    "review_counts = df.groupby('Tag1').size()\n",
    "\n",
    "# İnceleme sayısına göre azalan şekilde sıralayın\n",
    "review_counts_sorted = review_counts.sort_values(ascending=False)\n",
    "\n",
    "# Sonuçları görüntüleyin\n",
    "print(review_counts_sorted)"
   ]
  },
  {
   "cell_type": "code",
   "execution_count": 112,
   "id": "3fa03ab3-1687-4568-875d-734a2c2890c1",
   "metadata": {},
   "outputs": [
    {
     "name": "stdout",
     "output_type": "stream",
     "text": [
      "Tag2\n",
      "Şirinyalı      47\n",
      "Fener          41\n",
      "Güzeloba       34\n",
      "Meltem         33\n",
      "Fabrikalar     30\n",
      "               ..\n",
      "Kızıltoprak     1\n",
      "Kızılarık       1\n",
      "Kozağacı        1\n",
      "Kiriş           1\n",
      "Macun           1\n",
      "Length: 170, dtype: int64\n"
     ]
    }
   ],
   "source": [
    "# Veri çerçevenizi oluşturun (örneğin, df)\n",
    "# Veri çerçevesini gruplayın ve her bir grubun sayısını alın\n",
    "review_counts = df.groupby('Tag2').size()\n",
    "\n",
    "# İnceleme sayısına göre azalan şekilde sıralayın\n",
    "review_counts_sorted = review_counts.sort_values(ascending=False)\n",
    "\n",
    "# Sonuçları görüntüleyin\n",
    "print(review_counts_sorted)"
   ]
  }
 ],
 "metadata": {
  "kernelspec": {
   "display_name": "Python 3 (ipykernel)",
   "language": "python",
   "name": "python3"
  },
  "language_info": {
   "codemirror_mode": {
    "name": "ipython",
    "version": 3
   },
   "file_extension": ".py",
   "mimetype": "text/x-python",
   "name": "python",
   "nbconvert_exporter": "python",
   "pygments_lexer": "ipython3",
   "version": "3.11.7"
  }
 },
 "nbformat": 4,
 "nbformat_minor": 5
}
